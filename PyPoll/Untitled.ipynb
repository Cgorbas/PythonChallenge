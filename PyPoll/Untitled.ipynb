{
 "cells": [
  {
   "cell_type": "code",
   "execution_count": null,
   "metadata": {},
   "outputs": [],
   "source": [
    "#Pypoll challenge,\n",
    "\n",
    "# importing os and csv dictionaries\n",
    "#\n",
    "import os\n",
    "import csv"
   ]
  },
  {
   "cell_type": "code",
   "execution_count": null,
   "metadata": {},
   "outputs": [],
   "source": [
    "#Initializing Variables\",\n",
    "votesCastTotal = 0\n",
    "ctRows = 0\n",
    "maxCandidate = \"\"\n",
    "maxVotes = 0\n",
    "candidateVotes = 0\n",
    "pypolldata = {}\n",
    "pypoll_data = []"
   ]
  },
  {
   "cell_type": "code",
   "execution_count": null,
   "metadata": {},
   "outputs": [],
   "source": [
    "#selects file in Resources folder\\n\",\n",
    "#pypoll_csv = os.path.join(\\\"..\\\", \\\"Resources\\\", \\\"election_data.csv\\\")\\n\",\n",
    "#opens original data\n",
    "pypoll_csv = os.path.join(\"..\", \"Resources\", \"test_election_data.csv\")\n",
    "#sorted list stored\n",
    "pypoll_S_csv = os.path.join(\"..\", \"Resources\", \"testPypollData.csv\")\n",
    "#clean data\n",
    "pypoll_FS_csv = os.path.join(\"..\", \"Resources\", \"PyPollData_Results.csv\")\n",
    "#using sorted list because not.sure.what.I.did.to.make.working.script.fail\n",
    "pypollsorted_csv = os.path.join(\"..\", \"Resources\", \"test_election_data.csv\")\n"
   ]
  },
  {
   "cell_type": "code",
   "execution_count": null,
   "metadata": {},
   "outputs": [],
   "source": [
    "#this section was supposed to change columns and sort the list to be used for the calculations.\n",
    "# current issue is the sortedList \"list out of range\".  it worked till it stopped working.\n",
    "#from operator import itemgetter\n",
    "#pypoll_csv = os.path.join(\"..\", \"Resources\", \"test_election_data.csv\")\n",
    "\n",
    "#reader = csv.reader(open(pypoll_csv), delimiter=\",\")\n",
    "#sortedList = sorted(reader, key=itemgetter(2), reverse=False)\n",
    "#print(sortedList)\n",
    "#\n",
    "#writes the data from file into list, sortedList\n",
    "#with open(pypoll_S_csv, 'w') as f:\n",
    "#    csv_writer = csv.writer(f)\n",
    "#    csv_writer.writerows(sortedList)\n",
    "#    \n",
    "#  removes blank lines and brackets\n",
    "#with open(pypoll_S_csv,\"r\") as f:\n",
    "#     for i in f.readlines():\n",
    "#           if not i.strip():\n",
    "#               continue\n",
    "#           if i:\n",
    "#               pypoll_FS_csv.write(i)  \n",
    "#\n"
   ]
  },
  {
   "cell_type": "code",
   "execution_count": null,
   "metadata": {
    "scrolled": false
   },
   "outputs": [],
   "source": [
    "  with open(pypollsorted_csv, newline=\"\") as csvfile:\n",
    "#    with open(pypoll_csv, newline=\"\") as csvfile:\n",
    "\n",
    "    pypollreader = csv.reader(csvfile, delimiter=\",\")\n",
    "\n",
    "# Read the header row first\\n\",\n",
    "    csv_header = next(csvfile)\n",
    "    print(f\"Header: {csv_header}\")\n",
    "    for row in pypollreader:\n",
    "        ctRows= ctRows+1\n",
    "        pypoll_data = (row[2],row[0],row[1])\n",
    "\n",
    "    #remove after testing\\n\",\n",
    "        print(\"column 1: \" + pypoll_data[0] )\n",
    "        print(\"column 2: \" + str(pypoll_data[1]) )\n",
    "        print(\"column 3: \" + pypoll_data[2] )\n",
    "\n",
    "        print(\"ctRows: \" + str(ctRows) )\n",
    "\n",
    "#The total number of votes cast\n",
    "    votesCastTotal = ctRows\n",
    "    print(\"total votes cast: \" + str(votesCastTotal) )\n",
    "  #  print(pypoll_data[0])\n"
   ]
  },
  {
   "cell_type": "code",
   "execution_count": null,
   "metadata": {},
   "outputs": [],
   "source": [
    "#calculations - depends on data being sorted.  could not get sort to work by coding (so far) so have sorted test list"
   ]
  },
  {
   "cell_type": "code",
   "execution_count": null,
   "metadata": {},
   "outputs": [],
   "source": [
    "# Print to terminal\n",
    "#print candidate [0]  candidatevotes[2]/votesCastTotal candidatevotes[2]   \\n\",\n",
    "\n",
    "\n",
    "#print(\" ***  Election Results  *** )\n",
    "#print(\"--------------------------------------\\\")\n",
    "#print(\"Total Votes Cast:                       \\\"+ str(votesCastTotal) )\n",
    "#print(\"--------------------------------------\")\n",
    "#for i in electionList():\n",
    "#   print((\"*********** \"+electionList[0] + \"      \"+ str(electionList[1]/votesCastTotal) +\"%     (\" + str(votesCastTotal)+\")\")\n",
    "#print(\"--------------------------------------\")\n",
    "#print(\"Winner:        \"+ maxCandidate )\n",
    "#print(\"--------------------------------------\")\n"
   ]
  },
  {
   "cell_type": "code",
   "execution_count": null,
   "metadata": {},
   "outputs": [],
   "source": [
    "    # Print to file\n",
    "#PyPoll_data = open(\"PyPoll_data.txt\",\"w\")\n",
    "#PyPoll_data.write(\" ***  Election Results  ***\\n\")\n",
    "#PyPoll_data.write(\"--------------------------------------\")\n",
    "#PyPoll_data.write(\"Total Votes Cast:        \"+ str(votesCastTotal) )\n",
    "#PyPoll_data.write(\"--------------------------------------\")\n",
    "#for i in electionList():\n",
    "#    pyPoll_data.write(\"*********** \"+electionList[0] + \"      \"+ str(electionList[1]/votesCastTotal) +\"%     (\" + str(votesCastTotal)+\")\")\n",
    "#PyPoll_data.write(\"--------------------------------------\")\n",
    "#PyPoll_data.write(\"Winner:        \"+ maxCandidate )\n",
    "#PyPoll_data.write(\"--------------------------------------\")\n"
   ]
  },
  {
   "cell_type": "code",
   "execution_count": null,
   "metadata": {},
   "outputs": [],
   "source": []
  }
 ],
 "metadata": {
  "kernelspec": {
   "display_name": "Python [conda env:root]",
   "language": "python",
   "name": "conda-root-py"
  },
  "language_info": {
   "codemirror_mode": {
    "name": "ipython",
    "version": 3
   },
   "file_extension": ".py",
   "mimetype": "text/x-python",
   "name": "python",
   "nbconvert_exporter": "python",
   "pygments_lexer": "ipython3",
   "version": "3.7.0"
  }
 },
 "nbformat": 4,
 "nbformat_minor": 2
}
