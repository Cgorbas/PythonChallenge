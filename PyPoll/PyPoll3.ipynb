{
 "cells": [
  {
   "cell_type": "code",
   "execution_count": null,
   "metadata": {},
   "outputs": [],
   "source": [
    "#Pypoll challenge,\n",
    "\n",
    "# importing os and csv dictionaries\n",
    "#\n",
    "import os\n",
    "import csv"
   ]
  },
  {
   "cell_type": "code",
   "execution_count": null,
   "metadata": {},
   "outputs": [],
   "source": [
    "#Initializing Variables\",\n",
    "votesCastTotal = 0\n",
    "ctRows = 0\n",
    "ctVotes=0\n",
    "candidate =\"\"\n",
    "maxCandidate = \"\"\n",
    "maxVotes = 0\n",
    "candidateVotes = 0\n",
    "pypolldata = {}\n",
    "candidateList = []\n",
    "electionList = []\n"
   ]
  },
  {
   "cell_type": "code",
   "execution_count": null,
   "metadata": {},
   "outputs": [],
   "source": [
    "#   -The total number of votes cast\n",
    "#   -complete list of candidates who received votes\n",
    "#   -percentage of votes each candidate won\n",
    "#   -total number of votes each candidate won\n",
    "#   -winner of the election based on popular vote"
   ]
  },
  {
   "cell_type": "code",
   "execution_count": null,
   "metadata": {},
   "outputs": [],
   "source": [
    "#selects file in Resources folder\\n\",\n",
    "#pypoll_csv = os.path.join(\\\"..\\\", \\\"Resources\\\", \\\"election_data.csv\\\")\\n\",\n",
    "#opens original data\n",
    "pypoll_csv = os.path.join(\"..\", \"Resources\", \"test_election_data.csv\")\n",
    "#sorted list stored\n",
    "pypoll_S_csv = os.path.join(\"..\", \"Resources\", \"testPypollData.csv\")\n",
    "#clean data\n",
    "pypoll_FS_csv = os.path.join(\"..\", \"Resources\", \"PyPollData_Results.csv\")\n",
    "#using sorted list because not.sure.what.I.did.to.make.working.script.fail\n",
    "pypollsorted_csv = os.path.join(\"..\", \"Resources\", \"election_data_Presorted.csv\")"
   ]
  },
  {
   "cell_type": "code",
   "execution_count": null,
   "metadata": {},
   "outputs": [],
   "source": [
    "#this section was supposed to change columns and sort the list to be used for the calculations.\n",
    "# current issue is the sortedList \"list out of range\".  it worked till it stopped working.\n",
    "#\n",
    "\n",
    "# Read the header row first\\n\",\n",
    "with open(pypoll_csv,newline=\"\")as csvfile:\n",
    "    csv_header = next(csvfile)\n",
    "    print(f\"Header: {csv_header}\")\n",
    "#\n",
    "##Sort\n",
    "#from operator import itemgetter\n",
    "##pypoll_csv = os.path.join(\"..\", \"Resources\", \"test_election_data.csv\")\n",
    "\n",
    "#reader = csv.reader(open(pypoll_csv), delimiter=\",\")\n",
    "#sortedList = sorted(reader, key=itemgetter(2), reverse=False)\n",
    "#print(sortedList[0])\n",
    "\n",
    "##writes the data from file into list, sortedList\n",
    "#with open(pypoll_S_csv,'r') as f:\n",
    "#    csv_writer = csv.writer(f)\n",
    "#    csv_writer.writerows(sortedList)\n",
    "    \n",
    "##  removes blank lines and brackets\n",
    "#with open(pypoll_S_csv,\"r\") as f:\n",
    "#     for i in f.readlines():\n",
    "#           if not i.strip():\n",
    "#               continue\n",
    "#           if i:\n",
    "#               pypoll_FS_csv.write(i)\n",
    "#    "
   ]
  },
  {
   "cell_type": "code",
   "execution_count": null,
   "metadata": {},
   "outputs": [],
   "source": [
    "# Read the header row first\\n\",\n",
    "#this should have read the values in sorted list PyPollData_Results.csv\n",
    "#instead it is using a partial list sorted differently\n",
    "\n",
    "# with open(pypollsorted_csv, newline=\"\") as csvfile:\n",
    "with open(pypollsorted_csv, newline=\"\") as csvfile:\n",
    "#    with open(pypoll_csv, newline=\"\") as csvfile:\n",
    "    pypollreader = csv.reader(csvfile, delimiter=\",\")\n",
    "    candidate = row[0]\n",
    "    for row in pypollreader:\n",
    "        ctRows= ctRows+1\n",
    "        candidateList = (row[0],row[1],row[2])\n",
    "        while candidate = candidateList[0]:\n",
    "              ctVotes=ctVotes +1\n",
    "        \n",
    "        \n",
    "\n",
    "    #remove after testing\\n\",\n",
    "        print(\"column 1: \" + candidateList[0] )\n",
    "        print(\"column 2: \" + str(candidateList[1]) )\n",
    "        print(\"column 3: \" + candidateList[2] )\n",
    "\n",
    "        print(\"ctRows: \" + str(ctRows) )\n",
    "\n",
    "#The total number of votes cast\n",
    "    votesCastTotal = ctRows\n",
    "    print(\"total votes cast: \" + str(votesCastTotal) )\n",
    "  #  print(pypoll_data[0])"
   ]
  },
  {
   "cell_type": "code",
   "execution_count": null,
   "metadata": {},
   "outputs": [],
   "source": [
    "# Print to terminal\n",
    "#print candidate [0]  candidatevotes[2]/votesCastTotal candidatevotes[2]   \\n\",\n",
    "#electionList\n",
    "\n",
    "print(\" ***  Election Results  *** \")\n",
    "print(\"--------------------------------------\")\n",
    "print(\"Total Votes Cast:                       \"+ str(votesCastTotal) )\n",
    "print(\"--------------------------------------\")\n",
    "#for i in electionList():\n",
    "#   print((\"*********** \"+electionList[0] + \"      \"+ str(electionList[1]/votesCastTotal) +\"%     (\" + str(votesCastTotal)+\")\")\n",
    "print(\"--------------------------------------\")\n",
    "#print(\"Winner:        \"+ maxCandidate )\n",
    "print(\"--------------------------------------\")\n"
   ]
  },
  {
   "cell_type": "code",
   "execution_count": null,
   "metadata": {},
   "outputs": [],
   "source": [
    "    # Print to file\n",
    "#PyPoll_data = open(\"PyPoll_data.txt\",\"w\")\n",
    "#PyPoll_data.write(\" ***  Election Results  ***\\n\")\n",
    "#PyPoll_data.write(\"--------------------------------------\")\n",
    "#PyPoll_data.write(\"Total Votes Cast:        \"+ str(votesCastTotal) )\n",
    "#PyPoll_data.write(\"--------------------------------------\")\n",
    "#for i in electionList():\n",
    "#    pyPoll_data.write(\"*********** \"+electionList[0] + \"      \"+ str(electionList[1]/votesCastTotal) +\"%     (\" + str(votesCastTotal)+\")\")\n",
    "#PyPoll_data.write(\"--------------------------------------\")\n",
    "#PyPoll_data.write(\"Winner:        \"+ maxCandidate )\n",
    "#PyPoll_data.write(\"--------------------------------------\")\n"
   ]
  },
  {
   "cell_type": "code",
   "execution_count": null,
   "metadata": {},
   "outputs": [],
   "source": []
  },
  {
   "cell_type": "code",
   "execution_count": null,
   "metadata": {},
   "outputs": [],
   "source": []
  }
 ],
 "metadata": {
  "kernelspec": {
   "display_name": "Python [conda env:root]",
   "language": "python",
   "name": "conda-root-py"
  },
  "language_info": {
   "codemirror_mode": {
    "name": "ipython",
    "version": 3
   },
   "file_extension": ".py",
   "mimetype": "text/x-python",
   "name": "python",
   "nbconvert_exporter": "python",
   "pygments_lexer": "ipython3",
   "version": "3.7.0"
  }
 },
 "nbformat": 4,
 "nbformat_minor": 2
}
