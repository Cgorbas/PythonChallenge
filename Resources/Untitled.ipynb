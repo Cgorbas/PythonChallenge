{
 "cells": [
  {
   "cell_type": "code",
   "execution_count": 14,
   "metadata": {},
   "outputs": [
    {
     "ename": "IndentationError",
     "evalue": "expected an indented block (<ipython-input-14-62c2001d0581>, line 16)",
     "output_type": "error",
     "traceback": [
      "\u001b[1;36m  File \u001b[1;32m\"<ipython-input-14-62c2001d0581>\"\u001b[1;36m, line \u001b[1;32m16\u001b[0m\n\u001b[1;33m    for item in sortedList:\u001b[0m\n\u001b[1;37m      ^\u001b[0m\n\u001b[1;31mIndentationError\u001b[0m\u001b[1;31m:\u001b[0m expected an indented block\n"
     ]
    }
   ],
   "source": [
    "import os\n",
    "import csv\n",
    "data=\"\"\n",
    "from operator import itemgetter\n",
    "pypoll_csv = os.path.join(\"..\", \"Resources\", \"test_election_data.csv\")\n",
    "\n",
    "pypollreader = csv.reader(open(\"test_election_data.csv\"), delimiter=\",\")\n",
    "\n",
    "#pypollreader = csv.reader(open(\"election_data.csv\"), delimiter=\",\")\n",
    "sortedList = sorted(reader, key=itemgetter(2), reverse=False)\n",
    "print(sortedList)\n",
    "with open(pybank_csv, newline=\"\") as csvfile:\n",
    "\n",
    "    pybankreader = csv.reader(csvfile, delimiter=\",\")\n",
    "    with open('testPypollData.csv', 'w') as f:\n",
    "    for item in sortedList:\n",
    "        f.write(\"%s\\n\" % item)\n",
    "    for item in \n",
    "\n",
    "    #data = data.replace(\"[\", \"\")"
   ]
  },
  {
   "cell_type": "code",
   "execution_count": null,
   "metadata": {},
   "outputs": [],
   "source": []
  }
 ],
 "metadata": {
  "kernelspec": {
   "display_name": "Python [conda env:root]",
   "language": "python",
   "name": "conda-root-py"
  },
  "language_info": {
   "codemirror_mode": {
    "name": "ipython",
    "version": 3
   },
   "file_extension": ".py",
   "mimetype": "text/x-python",
   "name": "python",
   "nbconvert_exporter": "python",
   "pygments_lexer": "ipython3",
   "version": "3.7.0"
  }
 },
 "nbformat": 4,
 "nbformat_minor": 2
}
